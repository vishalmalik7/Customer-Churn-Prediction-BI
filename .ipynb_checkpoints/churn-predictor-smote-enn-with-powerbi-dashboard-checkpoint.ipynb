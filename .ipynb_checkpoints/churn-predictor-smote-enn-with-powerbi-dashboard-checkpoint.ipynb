{
 "cells": [
  {
   "cell_type": "markdown",
   "metadata": {},
   "source": [
    "# Customer Churn Analysis\n",
    "\n"
   ]
  },
  {
   "cell_type": "markdown",
   "metadata": {},
   "source": [
    "Churn is one of the biggest problems not only in the telecom industry but also in several other industries. Using the 'Telecom Churn Prediction' dataset we shall go over some of the main reasons why customer churn happens and also build a model to predict if a customer will churn or not.\n",
    "\n",
    "The higher the churn rate, the more difficult it is to grow because you’ll constantly be chasing new customers to replace the ones that are churning. Customers in the telecom industry can choose from a variety of service providers and actively switch from one to the next. The telecommunications business has an annual churn rate of 15-25 percent in this highly competitive market.\n",
    "\n",
    "Customer churn is a critical metric because it is much less expensive to retain existing customers than it is to acquire new customers."
   ]
  },
  {
   "cell_type": "markdown",
   "metadata": {},
   "source": [
    "### **Data Dictionary**\n",
    "\n",
    "1. **`CustomerID`**: A unique ID that identifies each customer.\n",
    "\n",
    "2. **`Gender`**: The customer’s gender: (Male, Female)\n",
    "\n",
    "3. **`Age`**: The customer’s current age, in years, at the time the fiscal quarter ended.\n",
    "\n",
    "4. **`Senior Citizen`**: Indicates if the customer is 65 or older: (Yes, No)\n",
    "\n",
    "5. **`Married (Partner)`**: Indicates if the customer is married: (Yes, No)\n",
    "\n",
    "6. **`Dependents`**: Indicates if the customer lives with any dependents: (Yes, No)\n",
    "\n",
    "7. **`Number of Dependents`**: Indicates the number of dependents that live with the customer.\n",
    "\n",
    "8. **`Phone Service`**: Indicates if the customer subscribes to home phone service with the company: (Yes, No)\n",
    "\n",
    "9. **`Multiple Lines`**: Indicates if the customer subscribes to multiple telephone lines with the company:(Yes, No)\n",
    "\n",
    "10. **`Internet Service`**: Indicates if the customer subscribes to Internet service with the company: (DSL, Fiber Optic)\n",
    "\n",
    "11. **`Online Security`**: Indicates if the customer subscribes to an additional online security service provided by the company: (Yes, No)\n",
    "\n",
    "12. **`Online Backup`**: Indicates if the customer subscribes to an additional online backup service provided by the company: (Yes, No)\n",
    "\n",
    "13. **`Device Protection Plan`**: Indicates if the customer subscribes to an additional device protection plan for their Internet equipment provided by the company: (Yes, No)\n",
    "\n",
    "14. **`Premium Tech Support`**: Indicates if the customer subscribes to an additional technical support plan from the company with reduced wait times: (Yes, No)\n",
    "\n",
    "15. **`Streaming TV`**: Indicates if the customer uses their Internet service to stream television programing from a third party provider: (Yes, No) The company does not charge an additional fee for this service.\n",
    "\n",
    "16. **`Streaming Movies`**: Indicates if the customer uses their Internet service to stream movies from a third party provider: (Yes, No) The company does not charge an additional fee for this service.\n",
    "\n",
    "17. **`Contract`**: Indicates the customer’s current contract type: (Month-to-Month, One Year, Two Year)\n",
    "\n",
    "18. **`Paperless Billing`**: Indicates if the customer has chosen paperless billing: (Yes, No)\n",
    "\n",
    "19. **`Payment Method`**: Indicates how the customer pays their bill: (Bank Withdrawal, Credit Card, Mailed Check)\n",
    "\n",
    "20. **`Monthly Charge`**: Indicates the customer’s current total monthly charge for all their services from the company.\n",
    "\n",
    "21. **`Total Charges`**: Indicates the customer’s total charges, calculated to the end of the quarter specified above.\n",
    "\n",
    "22. **`Tenure`**: Indicates the total amount of months that the customer has been with the company.\n",
    "\n",
    "23. **`Churn`**: Yes = the customer left the company this quarter. No = the customer remained with the company. Directly related to Churn Value.\n",
    "\n",
    "Reference:\n",
    "https://www.kaggle.com/blastchar/telco-customer-churn\n"
   ]
  },
  {
   "cell_type": "markdown",
   "metadata": {},
   "source": [
    "## A) Dataset"
   ]
  },
  {
   "cell_type": "markdown",
   "metadata": {},
   "source": [
    "Lets start by importing libraries that we shall need"
   ]
  },
  {
   "cell_type": "code",
   "execution_count": null,
   "metadata": {
    "execution": {
     "iopub.execute_input": "2022-10-27T12:27:53.906106Z",
     "iopub.status.busy": "2022-10-27T12:27:53.905666Z",
     "iopub.status.idle": "2022-10-27T12:27:53.931036Z",
     "shell.execute_reply": "2022-10-27T12:27:53.930046Z",
     "shell.execute_reply.started": "2022-10-27T12:27:53.906075Z"
    }
   },
   "outputs": [],
   "source": [
    "#EDA Libraries\n",
    "import pandas as pd\n",
    "import numpy as np\n",
    "import matplotlib.pyplot as plt\n",
    "import seaborn as sns\n",
    "from matplotlib import rcParams\n",
    "\n",
    "#Model Building Libraries\n",
    "from sklearn import metrics\n",
    "\n",
    "from sklearn.model_selection import train_test_split\n",
    "from sklearn.metrics import recall_score, confusion_matrix, classification_report, accuracy_score\n",
    "from sklearn.preprocessing import MinMaxScaler\n",
    "from sklearn.linear_model import LogisticRegression\n",
    "from sklearn.tree import DecisionTreeClassifier\n",
    "from imblearn.combine import SMOTEENN \n",
    "from sklearn.ensemble import RandomForestClassifier\n",
    "from sklearn.ensemble import AdaBoostClassifier\n",
    "#Parameters for plots\n",
    "rcParams['figure.figsize'] = 8,6\n",
    "sns.set_style('darkgrid')\n",
    "rcParams['axes.titlepad']=15\n",
    "RB = [\"#123ea6\", \"#e63707\"]\n",
    "sns.set_palette(RB)\n",
    "\n",
    "import os\n",
    "for dirname, _, filenames in os.walk('/kaggle/input'):\n",
    "    for filename in filenames:\n",
    "        print(os.path.join(dirname, filename))"
   ]
  },
  {
   "cell_type": "markdown",
   "metadata": {},
   "source": [
    "Loading the dataset"
   ]
  },
  {
   "cell_type": "code",
   "execution_count": null,
   "metadata": {
    "execution": {
     "iopub.execute_input": "2022-10-27T12:27:53.97851Z",
     "iopub.status.busy": "2022-10-27T12:27:53.977881Z",
     "iopub.status.idle": "2022-10-27T12:27:54.010695Z",
     "shell.execute_reply": "2022-10-27T12:27:54.009361Z",
     "shell.execute_reply.started": "2022-10-27T12:27:53.978477Z"
    }
   },
   "outputs": [],
   "source": [
    "df_base= pd.read_csv(\"../input/telco-customer-churn/WA_Fn-UseC_-Telco-Customer-Churn.csv\")"
   ]
  },
  {
   "cell_type": "markdown",
   "metadata": {},
   "source": [
    "Checking the head and attributes of the dataset"
   ]
  },
  {
   "cell_type": "code",
   "execution_count": null,
   "metadata": {
    "execution": {
     "iopub.execute_input": "2022-10-27T12:27:54.07107Z",
     "iopub.status.busy": "2022-10-27T12:27:54.070644Z",
     "iopub.status.idle": "2022-10-27T12:27:54.096267Z",
     "shell.execute_reply": "2022-10-27T12:27:54.094866Z",
     "shell.execute_reply.started": "2022-10-27T12:27:54.071039Z"
    }
   },
   "outputs": [],
   "source": [
    "df_base.head()"
   ]
  },
  {
   "cell_type": "code",
   "execution_count": null,
   "metadata": {
    "execution": {
     "iopub.execute_input": "2022-10-27T12:27:54.111053Z",
     "iopub.status.busy": "2022-10-27T12:27:54.110623Z",
     "iopub.status.idle": "2022-10-27T12:27:54.118696Z",
     "shell.execute_reply": "2022-10-27T12:27:54.117266Z",
     "shell.execute_reply.started": "2022-10-27T12:27:54.111018Z"
    }
   },
   "outputs": [],
   "source": [
    "df_base.shape"
   ]
  },
  {
   "cell_type": "code",
   "execution_count": null,
   "metadata": {
    "execution": {
     "iopub.execute_input": "2022-10-27T12:27:54.12952Z",
     "iopub.status.busy": "2022-10-27T12:27:54.128425Z",
     "iopub.status.idle": "2022-10-27T12:27:54.136233Z",
     "shell.execute_reply": "2022-10-27T12:27:54.135154Z",
     "shell.execute_reply.started": "2022-10-27T12:27:54.129481Z"
    }
   },
   "outputs": [],
   "source": [
    "df_base.columns.values"
   ]
  },
  {
   "cell_type": "code",
   "execution_count": null,
   "metadata": {
    "execution": {
     "iopub.execute_input": "2022-10-27T12:27:54.143701Z",
     "iopub.status.busy": "2022-10-27T12:27:54.143292Z",
     "iopub.status.idle": "2022-10-27T12:27:54.153883Z",
     "shell.execute_reply": "2022-10-27T12:27:54.152679Z",
     "shell.execute_reply.started": "2022-10-27T12:27:54.143648Z"
    }
   },
   "outputs": [],
   "source": [
    "df_base.dtypes"
   ]
  },
  {
   "cell_type": "code",
   "execution_count": null,
   "metadata": {
    "execution": {
     "iopub.execute_input": "2022-10-27T12:27:54.173148Z",
     "iopub.status.busy": "2022-10-27T12:27:54.172684Z",
     "iopub.status.idle": "2022-10-27T12:27:54.198458Z",
     "shell.execute_reply": "2022-10-27T12:27:54.197282Z",
     "shell.execute_reply.started": "2022-10-27T12:27:54.17311Z"
    }
   },
   "outputs": [],
   "source": [
    "df_base.describe()"
   ]
  },
  {
   "cell_type": "markdown",
   "metadata": {},
   "source": [
    "We can conclude that:\n",
    "1. 75% of the customers have tenure less than 55 months\n",
    "2. The mean tenure is around 32 months\n",
    "3. The mean monthly charges are roughly around 64.76 USD and 25% customers pay more than 89.85 USD\n"
   ]
  },
  {
   "cell_type": "code",
   "execution_count": null,
   "metadata": {
    "execution": {
     "iopub.execute_input": "2022-10-27T12:27:54.20067Z",
     "iopub.status.busy": "2022-10-27T12:27:54.200289Z",
     "iopub.status.idle": "2022-10-27T12:27:54.343907Z",
     "shell.execute_reply": "2022-10-27T12:27:54.342203Z",
     "shell.execute_reply.started": "2022-10-27T12:27:54.200638Z"
    }
   },
   "outputs": [],
   "source": [
    "sns.countplot(x=df_base['Churn'])\n",
    "plt.title('No of Churned Customers',fontsize=15)"
   ]
  },
  {
   "cell_type": "code",
   "execution_count": null,
   "metadata": {
    "execution": {
     "iopub.execute_input": "2022-10-27T12:27:54.348244Z",
     "iopub.status.busy": "2022-10-27T12:27:54.3472Z",
     "iopub.status.idle": "2022-10-27T12:27:54.362716Z",
     "shell.execute_reply": "2022-10-27T12:27:54.361173Z",
     "shell.execute_reply.started": "2022-10-27T12:27:54.348172Z"
    }
   },
   "outputs": [],
   "source": [
    "df_base['Churn'].value_counts()"
   ]
  },
  {
   "cell_type": "markdown",
   "metadata": {},
   "source": [
    "As the distribution of data is not around 50:50 we can say that it is an 'Imbalanced Dataset'"
   ]
  },
  {
   "cell_type": "markdown",
   "metadata": {},
   "source": [
    "Now lets check if any missing values exist in our dataset"
   ]
  },
  {
   "cell_type": "code",
   "execution_count": null,
   "metadata": {
    "execution": {
     "iopub.execute_input": "2022-10-27T12:27:54.365998Z",
     "iopub.status.busy": "2022-10-27T12:27:54.364863Z",
     "iopub.status.idle": "2022-10-27T12:27:54.381627Z",
     "shell.execute_reply": "2022-10-27T12:27:54.380745Z",
     "shell.execute_reply.started": "2022-10-27T12:27:54.365913Z"
    }
   },
   "outputs": [],
   "source": [
    "df_base.isnull().sum()"
   ]
  },
  {
   "cell_type": "code",
   "execution_count": null,
   "metadata": {
    "execution": {
     "iopub.execute_input": "2022-10-27T12:27:54.38372Z",
     "iopub.status.busy": "2022-10-27T12:27:54.383228Z",
     "iopub.status.idle": "2022-10-27T12:27:54.404522Z",
     "shell.execute_reply": "2022-10-27T12:27:54.403319Z",
     "shell.execute_reply.started": "2022-10-27T12:27:54.383688Z"
    }
   },
   "outputs": [],
   "source": [
    "df_base.info()"
   ]
  },
  {
   "cell_type": "markdown",
   "metadata": {},
   "source": [
    "Seems like there are no missing values here.... But wait theres a catch!!! \n",
    "\n",
    "We can see that majority of the columns are of datatype objects. Hence we should convert them into either float or integer values to really know if any null values exist. We can use the to_numeric method to do so."
   ]
  },
  {
   "cell_type": "code",
   "execution_count": null,
   "metadata": {
    "execution": {
     "iopub.execute_input": "2022-10-27T12:27:54.427752Z",
     "iopub.status.busy": "2022-10-27T12:27:54.427298Z",
     "iopub.status.idle": "2022-10-27T12:27:54.451215Z",
     "shell.execute_reply": "2022-10-27T12:27:54.449917Z",
     "shell.execute_reply.started": "2022-10-27T12:27:54.427718Z"
    }
   },
   "outputs": [],
   "source": [
    "df= df_base.copy()\n",
    "df['TotalCharges']=pd.to_numeric(df_base['TotalCharges'],errors='coerce') #coerce puts NaN values if there are any parsing errors\n",
    "df.isnull().sum()"
   ]
  },
  {
   "cell_type": "markdown",
   "metadata": {},
   "source": [
    "As we can see now there are 11 missing values from the TotalCharges colums. Lets check these records"
   ]
  },
  {
   "cell_type": "code",
   "execution_count": null,
   "metadata": {
    "execution": {
     "iopub.execute_input": "2022-10-27T12:27:54.472584Z",
     "iopub.status.busy": "2022-10-27T12:27:54.472189Z",
     "iopub.status.idle": "2022-10-27T12:27:54.510421Z",
     "shell.execute_reply": "2022-10-27T12:27:54.509207Z",
     "shell.execute_reply.started": "2022-10-27T12:27:54.472554Z"
    },
    "scrolled": true
   },
   "outputs": [],
   "source": [
    "df[df.isnull().any(axis=1)]"
   ]
  },
  {
   "cell_type": "markdown",
   "metadata": {},
   "source": [
    "As we can see from the above dataframe the customers who have tenure equal to 0 are the ones with blank values in the TotalCharges column. Lets quickly check the dataframe where the tenure is 0"
   ]
  },
  {
   "cell_type": "code",
   "execution_count": null,
   "metadata": {
    "execution": {
     "iopub.execute_input": "2022-10-27T12:27:54.530787Z",
     "iopub.status.busy": "2022-10-27T12:27:54.530377Z",
     "iopub.status.idle": "2022-10-27T12:27:54.561424Z",
     "shell.execute_reply": "2022-10-27T12:27:54.560145Z",
     "shell.execute_reply.started": "2022-10-27T12:27:54.530753Z"
    }
   },
   "outputs": [],
   "source": [
    "df[df['tenure']==0]"
   ]
  },
  {
   "cell_type": "markdown",
   "metadata": {},
   "source": [
    "As both the dataframes match we can conclude that values are missing due to the fact that the customer has not yet paid anything to the company as they are new and hence none of them churned yet.\n",
    "\n",
    "Since the percentage of these records compared to the dataset is very low (~0.156%), it is safe to drop them as they wont have a very large impact."
   ]
  },
  {
   "cell_type": "code",
   "execution_count": null,
   "metadata": {
    "execution": {
     "iopub.execute_input": "2022-10-27T12:27:54.612109Z",
     "iopub.status.busy": "2022-10-27T12:27:54.611683Z",
     "iopub.status.idle": "2022-10-27T12:27:54.629486Z",
     "shell.execute_reply": "2022-10-27T12:27:54.628171Z",
     "shell.execute_reply.started": "2022-10-27T12:27:54.612072Z"
    }
   },
   "outputs": [],
   "source": [
    "#Dropping the null values\n",
    "df.dropna(inplace=True)"
   ]
  },
  {
   "cell_type": "code",
   "execution_count": null,
   "metadata": {
    "execution": {
     "iopub.execute_input": "2022-10-27T12:27:54.657199Z",
     "iopub.status.busy": "2022-10-27T12:27:54.656309Z",
     "iopub.status.idle": "2022-10-27T12:27:54.676635Z",
     "shell.execute_reply": "2022-10-27T12:27:54.675567Z",
     "shell.execute_reply.started": "2022-10-27T12:27:54.657151Z"
    }
   },
   "outputs": [],
   "source": [
    "df.isnull().sum()"
   ]
  },
  {
   "cell_type": "code",
   "execution_count": null,
   "metadata": {
    "execution": {
     "iopub.execute_input": "2022-10-27T12:27:54.679479Z",
     "iopub.status.busy": "2022-10-27T12:27:54.678769Z",
     "iopub.status.idle": "2022-10-27T12:27:54.701414Z",
     "shell.execute_reply": "2022-10-27T12:27:54.70038Z",
     "shell.execute_reply.started": "2022-10-27T12:27:54.679432Z"
    }
   },
   "outputs": [],
   "source": [
    "df.info()"
   ]
  },
  {
   "cell_type": "code",
   "execution_count": null,
   "metadata": {
    "execution": {
     "iopub.execute_input": "2022-10-27T12:27:54.703435Z",
     "iopub.status.busy": "2022-10-27T12:27:54.702918Z",
     "iopub.status.idle": "2022-10-27T12:27:54.732957Z",
     "shell.execute_reply": "2022-10-27T12:27:54.731586Z",
     "shell.execute_reply.started": "2022-10-27T12:27:54.703405Z"
    }
   },
   "outputs": [],
   "source": [
    "df1=df.copy()\n",
    "\n",
    "df1.drop(['customerID'],axis=1,inplace=True)\n",
    "df1.head()"
   ]
  },
  {
   "cell_type": "markdown",
   "metadata": {},
   "source": [
    "Tenure is a specific number and to visualize them would be difficult. Hence we will divide them into bins and assign them into groups. For e.g. tenure < 12 months then assign a group of 1-12 months as 0-1 years, for 13-24 assign group as between 1-2 years and so on...\n",
    "\n",
    "\n"
   ]
  },
  {
   "cell_type": "code",
   "execution_count": null,
   "metadata": {
    "execution": {
     "iopub.execute_input": "2022-10-27T12:27:54.735203Z",
     "iopub.status.busy": "2022-10-27T12:27:54.734775Z",
     "iopub.status.idle": "2022-10-27T12:27:54.742497Z",
     "shell.execute_reply": "2022-10-27T12:27:54.741475Z",
     "shell.execute_reply.started": "2022-10-27T12:27:54.735173Z"
    }
   },
   "outputs": [],
   "source": [
    "df['tenure'].max() #The max tenure is 72 months or 6 years"
   ]
  },
  {
   "cell_type": "code",
   "execution_count": null,
   "metadata": {
    "execution": {
     "iopub.execute_input": "2022-10-27T12:27:54.799463Z",
     "iopub.status.busy": "2022-10-27T12:27:54.799044Z",
     "iopub.status.idle": "2022-10-27T12:27:54.809041Z",
     "shell.execute_reply": "2022-10-27T12:27:54.807657Z",
     "shell.execute_reply.started": "2022-10-27T12:27:54.799428Z"
    }
   },
   "outputs": [],
   "source": [
    "# Group the tenures in bins of 12 months\n",
    "labels = [\"{0} - {1}\".format(i,i+11) for i in range (1,72,12)]\n",
    "df['tenure_group'] = pd.cut(df['tenure'], range(1,80,12), right=False, labels=labels)"
   ]
  },
  {
   "cell_type": "code",
   "execution_count": null,
   "metadata": {
    "execution": {
     "iopub.execute_input": "2022-10-27T12:27:54.825754Z",
     "iopub.status.busy": "2022-10-27T12:27:54.82531Z",
     "iopub.status.idle": "2022-10-27T12:27:54.835369Z",
     "shell.execute_reply": "2022-10-27T12:27:54.834042Z",
     "shell.execute_reply.started": "2022-10-27T12:27:54.82572Z"
    }
   },
   "outputs": [],
   "source": [
    "df['tenure_group'].value_counts()"
   ]
  },
  {
   "cell_type": "code",
   "execution_count": null,
   "metadata": {
    "execution": {
     "iopub.execute_input": "2022-10-27T12:27:54.841879Z",
     "iopub.status.busy": "2022-10-27T12:27:54.841492Z",
     "iopub.status.idle": "2022-10-27T12:27:55.121651Z",
     "shell.execute_reply": "2022-10-27T12:27:55.120473Z",
     "shell.execute_reply.started": "2022-10-27T12:27:54.841847Z"
    }
   },
   "outputs": [],
   "source": [
    "sns.countplot(x=df['tenure_group'],hue='Churn',data=df)"
   ]
  },
  {
   "cell_type": "markdown",
   "metadata": {},
   "source": [
    "We can notice that customers who have tenure less than a year are the ones who are most likely to churn whereas the clients who have been with the company the longest are very less likely to churn. Also the number of customers with a monthly tenure is higher than others.\n",
    "\n",
    "Now, lets remove the tenure column now as we have already transformed it into tenure_group"
   ]
  },
  {
   "cell_type": "markdown",
   "metadata": {},
   "source": [
    "Lets drop the tenure and customerID columns as it is not of much use for data analysis and model training"
   ]
  },
  {
   "cell_type": "code",
   "execution_count": null,
   "metadata": {
    "execution": {
     "iopub.execute_input": "2022-10-27T12:27:55.124812Z",
     "iopub.status.busy": "2022-10-27T12:27:55.124236Z",
     "iopub.status.idle": "2022-10-27T12:27:55.153294Z",
     "shell.execute_reply": "2022-10-27T12:27:55.152034Z",
     "shell.execute_reply.started": "2022-10-27T12:27:55.124777Z"
    }
   },
   "outputs": [],
   "source": [
    "df.drop(['customerID','tenure'],axis=1,inplace=True)\n",
    "df.head()"
   ]
  },
  {
   "cell_type": "markdown",
   "metadata": {},
   "source": [
    "## B) Exploratory Data Analysis"
   ]
  },
  {
   "cell_type": "markdown",
   "metadata": {},
   "source": [
    "### Univariate Analysis"
   ]
  },
  {
   "cell_type": "code",
   "execution_count": null,
   "metadata": {
    "execution": {
     "iopub.execute_input": "2022-10-27T12:27:55.155786Z",
     "iopub.status.busy": "2022-10-27T12:27:55.15509Z",
     "iopub.status.idle": "2022-10-27T12:28:00.554955Z",
     "shell.execute_reply": "2022-10-27T12:28:00.553671Z",
     "shell.execute_reply.started": "2022-10-27T12:27:55.15575Z"
    }
   },
   "outputs": [],
   "source": [
    "sns.pairplot(df,hue='Churn')"
   ]
  },
  {
   "cell_type": "code",
   "execution_count": null,
   "metadata": {
    "execution": {
     "iopub.execute_input": "2022-10-27T12:28:00.558005Z",
     "iopub.status.busy": "2022-10-27T12:28:00.55754Z",
     "iopub.status.idle": "2022-10-27T12:28:05.238034Z",
     "shell.execute_reply": "2022-10-27T12:28:05.236806Z",
     "shell.execute_reply.started": "2022-10-27T12:28:00.557946Z"
    },
    "scrolled": true
   },
   "outputs": [],
   "source": [
    "#Plotting the countplot of all important columns to gain insights\n",
    "for i, predictor in enumerate(df.drop(columns=['Churn','TotalCharges','MonthlyCharges'])):\n",
    "    plt.figure(i,figsize=(6,4))\n",
    "    sns.countplot(data=df,x=predictor,hue='Churn')\n",
    "    plt.tight_layout()"
   ]
  },
  {
   "cell_type": "markdown",
   "metadata": {},
   "source": [
    "#### Observations: \n",
    "\n",
    "1. **`Gender`** - The ratio is almost similar hence gender is not an important feature standalone but when combined will be of importance.\n",
    "2. **`SeniorCitizen`** - Ratio of churners in Senior citizens is very high. If the customers are a Senior Citizen they are more likely to churn.\n",
    "3. **`Partner`** - Customers with partners they are more likely to churn\n",
    "4. **`Dependents`** - Customers with dependents they are less likely to churn\n",
    "5. **`PhoneService`** - Customers with Phone Service are are more likely to churn\n",
    "6. **`MultipleLines`** - Not much of an effect\n",
    "7. **`InternetService`** Customers with Fiber optic as their service are more likely to churn probably due to high costs\n",
    "8. **`OnlineSecurity`** Customers with Online Security are very less likely to churn than ones who dont have Online Security\n",
    "9. **`OnlineBackup`** - Customers with OnlineBackup are less likely to churn\n",
    "10. **`TechSupport`** - Customers with DeviceProtection are less likely to churn\n",
    "11. **`StreamingTV/StreamingMovies`** - Not much of a effect as company doesn't charge an additional fee for these\n",
    "12. **`Contract`** - Customers with contract of one year or more are very less likely to churn\n",
    "12. **`PaperlessBilling`** - Not much of an effect\n",
    "13. **`PaymentMethod`** - Customers who have paid through electronic check are very likely to churn and ones who paid through credit card are very less likely to churn\n",
    "13. **`tenure_group`** - Customers who have tenure less than a year are the ones who are most likely to churn whereas the clients who have been with the company the longest are very less likely to churn"
   ]
  },
  {
   "cell_type": "markdown",
   "metadata": {},
   "source": [
    "Now lets convert the target variable Churn into a binary numeric value i.e Yes=1, No=0"
   ]
  },
  {
   "cell_type": "code",
   "execution_count": null,
   "metadata": {
    "execution": {
     "iopub.execute_input": "2022-10-27T12:28:05.24031Z",
     "iopub.status.busy": "2022-10-27T12:28:05.239401Z",
     "iopub.status.idle": "2022-10-27T12:28:05.249953Z",
     "shell.execute_reply": "2022-10-27T12:28:05.248842Z",
     "shell.execute_reply.started": "2022-10-27T12:28:05.240273Z"
    }
   },
   "outputs": [],
   "source": [
    "df['Churn'].replace([\"Yes\",\"No\"], [1,0],inplace=True)"
   ]
  },
  {
   "cell_type": "markdown",
   "metadata": {},
   "source": [
    "Let's also convert all the categorical variables into dummy variables"
   ]
  },
  {
   "cell_type": "code",
   "execution_count": null,
   "metadata": {
    "execution": {
     "iopub.execute_input": "2022-10-27T12:28:05.251303Z",
     "iopub.status.busy": "2022-10-27T12:28:05.250891Z",
     "iopub.status.idle": "2022-10-27T12:28:05.315211Z",
     "shell.execute_reply": "2022-10-27T12:28:05.314285Z",
     "shell.execute_reply.started": "2022-10-27T12:28:05.251272Z"
    }
   },
   "outputs": [],
   "source": [
    "#One Hot Encoding\n",
    "df_dummies = pd.get_dummies(df)\n",
    "df_dummies.head()"
   ]
  },
  {
   "cell_type": "code",
   "execution_count": null,
   "metadata": {
    "execution": {
     "iopub.execute_input": "2022-10-27T12:28:05.317106Z",
     "iopub.status.busy": "2022-10-27T12:28:05.316721Z",
     "iopub.status.idle": "2022-10-27T12:28:05.326566Z",
     "shell.execute_reply": "2022-10-27T12:28:05.325504Z",
     "shell.execute_reply.started": "2022-10-27T12:28:05.317072Z"
    }
   },
   "outputs": [],
   "source": [
    "100*df[df['SeniorCitizen']==1].shape[0]/df.shape[0]"
   ]
  },
  {
   "cell_type": "markdown",
   "metadata": {},
   "source": [
    "There are only 16% of the customers who are senior citizens. Thus most of our customers in the data are younger people."
   ]
  },
  {
   "cell_type": "markdown",
   "metadata": {},
   "source": [
    "Now lets check out the pairplot"
   ]
  },
  {
   "cell_type": "code",
   "execution_count": null,
   "metadata": {
    "execution": {
     "iopub.execute_input": "2022-10-27T12:28:05.328174Z",
     "iopub.status.busy": "2022-10-27T12:28:05.327764Z",
     "iopub.status.idle": "2022-10-27T12:28:10.318001Z",
     "shell.execute_reply": "2022-10-27T12:28:10.316715Z",
     "shell.execute_reply.started": "2022-10-27T12:28:05.328142Z"
    }
   },
   "outputs": [],
   "source": [
    "sns.pairplot(df,hue='Churn')"
   ]
  },
  {
   "cell_type": "code",
   "execution_count": null,
   "metadata": {
    "execution": {
     "iopub.execute_input": "2022-10-27T12:28:10.3201Z",
     "iopub.status.busy": "2022-10-27T12:28:10.319709Z",
     "iopub.status.idle": "2022-10-27T12:28:11.613456Z",
     "shell.execute_reply": "2022-10-27T12:28:11.611791Z",
     "shell.execute_reply.started": "2022-10-27T12:28:10.320049Z"
    }
   },
   "outputs": [],
   "source": [
    "sns.lmplot(x='TotalCharges',y='MonthlyCharges',data=df,hue='Churn')"
   ]
  },
  {
   "cell_type": "markdown",
   "metadata": {},
   "source": [
    "We can see that there is a relationship between MonthlyCharges and TotalCharges. TotalCharges Increases as Monthly Charges increases as expected. Now lets check out the kdeplot of MonthlyCharges and TotalCharges"
   ]
  },
  {
   "cell_type": "code",
   "execution_count": null,
   "metadata": {
    "execution": {
     "iopub.execute_input": "2022-10-27T12:28:11.618523Z",
     "iopub.status.busy": "2022-10-27T12:28:11.618094Z",
     "iopub.status.idle": "2022-10-27T12:28:11.98479Z",
     "shell.execute_reply": "2022-10-27T12:28:11.983058Z",
     "shell.execute_reply.started": "2022-10-27T12:28:11.618489Z"
    }
   },
   "outputs": [],
   "source": [
    "sns.kdeplot(data=df_dummies,x='MonthlyCharges',hue='Churn',shade=True)"
   ]
  },
  {
   "cell_type": "code",
   "execution_count": null,
   "metadata": {
    "execution": {
     "iopub.execute_input": "2022-10-27T12:28:11.987243Z",
     "iopub.status.busy": "2022-10-27T12:28:11.986716Z",
     "iopub.status.idle": "2022-10-27T12:28:12.284296Z",
     "shell.execute_reply": "2022-10-27T12:28:12.28281Z",
     "shell.execute_reply.started": "2022-10-27T12:28:11.987193Z"
    }
   },
   "outputs": [],
   "source": [
    "sns.kdeplot(data=df_dummies,x='TotalCharges',hue='Churn',shade=True)"
   ]
  },
  {
   "cell_type": "markdown",
   "metadata": {},
   "source": [
    "We find that the Customers are more likely to churn for lower monthly and total charges...Why is that?\n"
   ]
  },
  {
   "cell_type": "code",
   "execution_count": null,
   "metadata": {
    "execution": {
     "iopub.execute_input": "2022-10-27T12:28:12.286757Z",
     "iopub.status.busy": "2022-10-27T12:28:12.28631Z",
     "iopub.status.idle": "2022-10-27T12:28:12.571303Z",
     "shell.execute_reply": "2022-10-27T12:28:12.570044Z",
     "shell.execute_reply.started": "2022-10-27T12:28:12.286723Z"
    }
   },
   "outputs": [],
   "source": [
    "sns.kdeplot(data=df_dummies,x='MonthlyCharges',hue='tenure_group_1 - 12',shade=True)"
   ]
  },
  {
   "cell_type": "code",
   "execution_count": null,
   "metadata": {
    "execution": {
     "iopub.execute_input": "2022-10-27T12:28:12.573437Z",
     "iopub.status.busy": "2022-10-27T12:28:12.572946Z",
     "iopub.status.idle": "2022-10-27T12:28:12.835614Z",
     "shell.execute_reply": "2022-10-27T12:28:12.834652Z",
     "shell.execute_reply.started": "2022-10-27T12:28:12.573393Z"
    }
   },
   "outputs": [],
   "source": [
    "sns.kdeplot(data=df_dummies,x='TotalCharges',hue='tenure_group_1 - 12',shade=True)"
   ]
  },
  {
   "cell_type": "markdown",
   "metadata": {},
   "source": [
    "We can see that people having a shorter tenure are the ones who are likely to churn and their Total charges will always be less due to their short tenures. Similarly, Low Monthly Charges users tend to churn becase they maybe trying the service and will churn if they find some other service\n",
    "***"
   ]
  },
  {
   "cell_type": "markdown",
   "metadata": {},
   "source": [
    "Lets see if the internet service plays a role in churning or not"
   ]
  },
  {
   "cell_type": "code",
   "execution_count": null,
   "metadata": {
    "execution": {
     "iopub.execute_input": "2022-10-27T12:28:12.838258Z",
     "iopub.status.busy": "2022-10-27T12:28:12.83744Z",
     "iopub.status.idle": "2022-10-27T12:28:13.172448Z",
     "shell.execute_reply": "2022-10-27T12:28:13.17117Z",
     "shell.execute_reply.started": "2022-10-27T12:28:12.838211Z"
    }
   },
   "outputs": [],
   "source": [
    "sns.violinplot(x=\"InternetService\", y=\"MonthlyCharges\", hue=\"Churn\",split=True, \n",
    "               palette=\"coolwarm\", data=df, height=4.5, aspect=1.5);"
   ]
  },
  {
   "cell_type": "markdown",
   "metadata": {},
   "source": [
    "Customers with fiber optic (fast connection) are more probable to churn than those with DSL connection (slower connection) as their service.<br>\n",
    "Also we can also observe that customers with DSL with higher charges are less probable to churn but the ones with lesser charges (~ 40-60 USD) are more likely to churn \n",
    "***"
   ]
  },
  {
   "cell_type": "markdown",
   "metadata": {},
   "source": [
    "Now Lets check the additional services offered by the company"
   ]
  },
  {
   "cell_type": "code",
   "execution_count": null,
   "metadata": {
    "execution": {
     "iopub.execute_input": "2022-10-27T12:28:13.174786Z",
     "iopub.status.busy": "2022-10-27T12:28:13.174321Z",
     "iopub.status.idle": "2022-10-27T12:28:13.527146Z",
     "shell.execute_reply": "2022-10-27T12:28:13.526003Z",
     "shell.execute_reply.started": "2022-10-27T12:28:13.174742Z"
    }
   },
   "outputs": [],
   "source": [
    "cols = [\"OnlineSecurity\", \"OnlineBackup\", \"DeviceProtection\", \"TechSupport\", \"StreamingTV\", \"StreamingMovies\"]\n",
    "df_service = pd.melt(df[df[\"InternetService\"] != \"No\"][cols]).rename({'value': 'Internet service'}, axis=1)\n",
    "plt.figure(figsize=(12, 6))\n",
    "ax = sns.countplot(data=df_service, x='variable', hue='Internet service')\n",
    "ax.set(xlabel='Additional service', ylabel='No of customers')\n",
    "plt.show()"
   ]
  },
  {
   "cell_type": "markdown",
   "metadata": {},
   "source": [
    "Lets check the correlations of Churn with other features"
   ]
  },
  {
   "cell_type": "code",
   "execution_count": null,
   "metadata": {
    "execution": {
     "iopub.execute_input": "2022-10-27T12:28:13.530289Z",
     "iopub.status.busy": "2022-10-27T12:28:13.529399Z",
     "iopub.status.idle": "2022-10-27T12:28:14.295108Z",
     "shell.execute_reply": "2022-10-27T12:28:14.293938Z",
     "shell.execute_reply.started": "2022-10-27T12:28:13.530241Z"
    }
   },
   "outputs": [],
   "source": [
    "#Get Correlation of \"Churn\" with other variables:\n",
    "plt.figure(figsize=(18,8))\n",
    "df_dummies.corr()['Churn'].sort_values(ascending = False)[:20].plot(kind='bar')\n",
    "plt.title('Positive Correlation')"
   ]
  },
  {
   "cell_type": "code",
   "execution_count": null,
   "metadata": {
    "execution": {
     "iopub.execute_input": "2022-10-27T12:28:14.298027Z",
     "iopub.status.busy": "2022-10-27T12:28:14.29717Z",
     "iopub.status.idle": "2022-10-27T12:28:14.832335Z",
     "shell.execute_reply": "2022-10-27T12:28:14.831043Z",
     "shell.execute_reply.started": "2022-10-27T12:28:14.297978Z"
    }
   },
   "outputs": [],
   "source": [
    "plt.figure(figsize=(18,8))\n",
    "df_dummies.corr()['Churn'].sort_values(ascending = False)[20:].plot(kind='bar')\n",
    "plt.title('Negative Correlation')"
   ]
  },
  {
   "cell_type": "code",
   "execution_count": null,
   "metadata": {
    "execution": {
     "iopub.execute_input": "2022-10-27T12:28:14.834792Z",
     "iopub.status.busy": "2022-10-27T12:28:14.834355Z",
     "iopub.status.idle": "2022-10-27T12:28:18.295817Z",
     "shell.execute_reply": "2022-10-27T12:28:18.294269Z",
     "shell.execute_reply.started": "2022-10-27T12:28:14.834748Z"
    }
   },
   "outputs": [],
   "source": [
    "plt.figure(figsize=(12,12))\n",
    "sns.heatmap(df_dummies.corr(),cmap='coolwarm')"
   ]
  },
  {
   "cell_type": "markdown",
   "metadata": {},
   "source": [
    "#### Insights:\n",
    "From these correlation diagrams we can observe the following things:\n",
    "\n",
    "\n",
    "1. **High Churn**: Seen in cases of *Month-to-Month Contacts, No Online Security, No Tech Support, First Year of Subscription and Fibre Optics Internet service*\n",
    "\n",
    "2. **Low Churn**: Seen in cases of *Long term Contacts, Subscriptions without Internet Service, and tenure of 5+ years*\n",
    "\n",
    "3. **Little to no Impact** : Some cases like *Mutiple Lines, Availability of Phone service and Gender* have little to no impact on Churn on their own"
   ]
  },
  {
   "cell_type": "markdown",
   "metadata": {},
   "source": [
    "### Bivariate Analysis"
   ]
  },
  {
   "cell_type": "markdown",
   "metadata": {},
   "source": [
    "To do this lets seperate our database intro two categories- Churners and Non-Churners"
   ]
  },
  {
   "cell_type": "code",
   "execution_count": null,
   "metadata": {
    "execution": {
     "iopub.execute_input": "2022-10-27T12:28:18.298661Z",
     "iopub.status.busy": "2022-10-27T12:28:18.297734Z",
     "iopub.status.idle": "2022-10-27T12:28:18.331486Z",
     "shell.execute_reply": "2022-10-27T12:28:18.33004Z",
     "shell.execute_reply.started": "2022-10-27T12:28:18.298616Z"
    }
   },
   "outputs": [],
   "source": [
    "churners_df = df.loc[df_dummies['Churn']==1]\n",
    "non_churners_df = df.loc[df_dummies['Churn']==0]\n",
    "churners_df.head()"
   ]
  },
  {
   "cell_type": "code",
   "execution_count": null,
   "metadata": {
    "execution": {
     "iopub.execute_input": "2022-10-27T12:28:18.33509Z",
     "iopub.status.busy": "2022-10-27T12:28:18.334294Z",
     "iopub.status.idle": "2022-10-27T12:28:21.93415Z",
     "shell.execute_reply": "2022-10-27T12:28:21.932738Z",
     "shell.execute_reply.started": "2022-10-27T12:28:18.335041Z"
    },
    "scrolled": true
   },
   "outputs": [],
   "source": [
    "#Plotting the countplot of all important columns to gain insights\n",
    "\n",
    "\n",
    "for i, predictor in enumerate(churners_df.drop(columns=['Churn','TotalCharges','MonthlyCharges','gender'])):\n",
    "    plt.figure(i,figsize=(6,4))  \n",
    "    plt.title(\"Distribution of {} for Churned Customers\".format(predictor),fontsize='16')\n",
    "    sns.countplot(data=churners_df,x=predictor,hue='gender')\n",
    "    plt.tight_layout\n",
    "    plt.legend(bbox_to_anchor=(1.05, 1), loc=2, borderaxespad=0.)"
   ]
  },
  {
   "cell_type": "markdown",
   "metadata": {},
   "source": [
    "#### Observations\n",
    "\n",
    "1. Gender doesnt seem to have that much of an effect on Churning in customers.\n",
    "2. Few insights we can gain from this is that female customers are a little more likely to churn than male customers if their tenure is less than a year, but are less likely to churn than male customers for long tenures.\n",
    "3. Female customers are more likely to churn than male customer if their payment method is Credit Card.\n"
   ]
  },
  {
   "cell_type": "markdown",
   "metadata": {},
   "source": [
    "### Conclusion from EDA\n",
    "\n",
    "\n",
    "1. Short term contracts have higher churn rates.\n",
    "2. Month to month contract is more likely opted by customers but has the greatest impact on the Churn rate (increases likelihood to churn by 6.31x).\n",
    "3. Customers with a two yearly contract have a very low churn rate.\n",
    "3. People with higher tenure are very less likely to churn as compared to shorter tenure (1 year).\n",
    "3. The customers who pay through electronic checks have higher churn rate whereas the ones who pay through credit card have lower churn rate.\n",
    "4. Customers without an internet service have a very low churn rate.\n",
    "5. Customers who have Internet service as Fiber Optics as a service are more likely to Churn.\n",
    "6. Senior Citizens are more likely to churn.\n",
    "7. Additional features like Security, Backup, Device Protection and Tech Support make the customer less likely to churn."
   ]
  },
  {
   "cell_type": "markdown",
   "metadata": {},
   "source": [
    "## C) Training the Model to Predict Churning\n",
    "\n",
    "Now lets train the model to predict Churning. We will keep tenure in months as the tenure_group column was made for visualization and our models input will be in tenure"
   ]
  },
  {
   "cell_type": "markdown",
   "metadata": {},
   "source": [
    "Following are the list of algorithms that are used in this notebook.\n",
    "\n",
    "| Algorithms |\n",
    "| ----------- |\n",
    "| Logistic Regression   | \n",
    "| Decision Tree  | \n",
    "| Random Forest   | \n",
    "| PCA     | \n",
    "| SVM|\n",
    "| AdaBoost  | \n",
    "| XGBoost  |\n",
    "| Neural Network |"
   ]
  },
  {
   "cell_type": "code",
   "execution_count": null,
   "metadata": {
    "execution": {
     "iopub.execute_input": "2022-10-27T12:28:21.936111Z",
     "iopub.status.busy": "2022-10-27T12:28:21.935733Z",
     "iopub.status.idle": "2022-10-27T12:28:22.029443Z",
     "shell.execute_reply": "2022-10-27T12:28:22.028276Z",
     "shell.execute_reply.started": "2022-10-27T12:28:21.936079Z"
    }
   },
   "outputs": [],
   "source": [
    "df_base =  pd.read_csv(\"../input/telco-customer-churn/WA_Fn-UseC_-Telco-Customer-Churn.csv\")\n",
    "replaceStruct = {\"Churn\":     {\"No\": 0, \"Yes\": 1 }  }\n",
    "oneHotCols = [\"gender\",\"SeniorCitizen\",\"Partner\",\"Dependents\",\"PhoneService\",\"MultipleLines\"\n",
    "            ,\"InternetService\",\"OnlineSecurity\",\"OnlineBackup\",\n",
    "            \"DeviceProtection\",\"TechSupport\",\"StreamingTV\",\"StreamingMovies\",\n",
    "            \"Contract\",\"PaperlessBilling\",\"PaymentMethod\"]\n",
    "\n",
    "df2=df_base.replace(replaceStruct, inplace=True)\n",
    "df2=pd.get_dummies(df_base, columns=oneHotCols)\n",
    "pd.set_option('display.max_columns',100)\n",
    "df2.head()"
   ]
  },
  {
   "cell_type": "code",
   "execution_count": null,
   "metadata": {
    "execution": {
     "iopub.execute_input": "2022-10-27T12:28:22.032436Z",
     "iopub.status.busy": "2022-10-27T12:28:22.031533Z",
     "iopub.status.idle": "2022-10-27T12:28:22.120746Z",
     "shell.execute_reply": "2022-10-27T12:28:22.119744Z",
     "shell.execute_reply.started": "2022-10-27T12:28:22.032391Z"
    }
   },
   "outputs": [],
   "source": [
    "df2['TotalCharges']=pd.to_numeric(df_base['TotalCharges'],errors='coerce') #coerce puts NaN values if there are any parsing errors\n",
    "df2.dropna(inplace=True)\n",
    "df2=df2.drop('customerID',axis=1)\n",
    "df2.to_csv(r'Telco-Customer-Predictions.csv')"
   ]
  },
  {
   "cell_type": "code",
   "execution_count": null,
   "metadata": {
    "execution": {
     "iopub.execute_input": "2022-10-27T12:28:22.123498Z",
     "iopub.status.busy": "2022-10-27T12:28:22.122657Z",
     "iopub.status.idle": "2022-10-27T12:28:22.142877Z",
     "shell.execute_reply": "2022-10-27T12:28:22.141517Z",
     "shell.execute_reply.started": "2022-10-27T12:28:22.123454Z"
    }
   },
   "outputs": [],
   "source": [
    "df2.info()"
   ]
  },
  {
   "cell_type": "code",
   "execution_count": null,
   "metadata": {
    "execution": {
     "iopub.execute_input": "2022-10-27T12:28:22.145321Z",
     "iopub.status.busy": "2022-10-27T12:28:22.144841Z",
     "iopub.status.idle": "2022-10-27T12:28:22.188619Z",
     "shell.execute_reply": "2022-10-27T12:28:22.187437Z",
     "shell.execute_reply.started": "2022-10-27T12:28:22.145276Z"
    }
   },
   "outputs": [],
   "source": [
    "df_dummies= pd.get_dummies(df2)\n",
    "df_dummies"
   ]
  },
  {
   "cell_type": "code",
   "execution_count": null,
   "metadata": {
    "execution": {
     "iopub.execute_input": "2022-10-27T12:28:22.19077Z",
     "iopub.status.busy": "2022-10-27T12:28:22.190366Z",
     "iopub.status.idle": "2022-10-27T12:28:22.197851Z",
     "shell.execute_reply": "2022-10-27T12:28:22.196433Z",
     "shell.execute_reply.started": "2022-10-27T12:28:22.190739Z"
    }
   },
   "outputs": [],
   "source": [
    "X = df_dummies.drop('Churn',axis=1)\n",
    "y = df_dummies['Churn']"
   ]
  },
  {
   "cell_type": "markdown",
   "metadata": {},
   "source": [
    "### a) Decision Tree Classifier\n"
   ]
  },
  {
   "cell_type": "code",
   "execution_count": null,
   "metadata": {
    "execution": {
     "iopub.execute_input": "2022-10-27T12:28:22.200116Z",
     "iopub.status.busy": "2022-10-27T12:28:22.199683Z",
     "iopub.status.idle": "2022-10-27T12:28:22.232736Z",
     "shell.execute_reply": "2022-10-27T12:28:22.23149Z",
     "shell.execute_reply.started": "2022-10-27T12:28:22.200065Z"
    }
   },
   "outputs": [],
   "source": [
    "X_train, X_test, y_train, y_test = train_test_split(X, y, test_size=0.2, random_state=11)\n",
    "dt_model = DecisionTreeClassifier(criterion='gini',max_depth=3, min_samples_leaf=8)\n",
    "dt_model.fit(X_train, y_train)"
   ]
  },
  {
   "cell_type": "code",
   "execution_count": null,
   "metadata": {
    "execution": {
     "iopub.execute_input": "2022-10-27T12:28:22.234587Z",
     "iopub.status.busy": "2022-10-27T12:28:22.234233Z",
     "iopub.status.idle": "2022-10-27T12:28:22.244762Z",
     "shell.execute_reply": "2022-10-27T12:28:22.243403Z",
     "shell.execute_reply.started": "2022-10-27T12:28:22.234558Z"
    }
   },
   "outputs": [],
   "source": [
    "y_pred = dt_model.predict(X_test)\n",
    "y_pred"
   ]
  },
  {
   "cell_type": "code",
   "execution_count": null,
   "metadata": {
    "execution": {
     "iopub.execute_input": "2022-10-27T12:28:22.253986Z",
     "iopub.status.busy": "2022-10-27T12:28:22.253604Z",
     "iopub.status.idle": "2022-10-27T12:28:22.26377Z",
     "shell.execute_reply": "2022-10-27T12:28:22.262403Z",
     "shell.execute_reply.started": "2022-10-27T12:28:22.25394Z"
    }
   },
   "outputs": [],
   "source": [
    "dt = round(accuracy_score(y_test, y_pred)*100, 2)\n",
    "dt"
   ]
  },
  {
   "cell_type": "code",
   "execution_count": null,
   "metadata": {
    "execution": {
     "iopub.execute_input": "2022-10-27T12:28:22.265932Z",
     "iopub.status.busy": "2022-10-27T12:28:22.26556Z",
     "iopub.status.idle": "2022-10-27T12:28:22.274714Z",
     "shell.execute_reply": "2022-10-27T12:28:22.273508Z",
     "shell.execute_reply.started": "2022-10-27T12:28:22.265902Z"
    }
   },
   "outputs": [],
   "source": [
    "def print_report(model,X_test,y_test,y_pred):\n",
    "    \"\"\"\n",
    "    returns the model score, confusion matrix and classfication report\n",
    "    \"\"\"\n",
    "    print(\"Model Score : {} \\n \".format(model.score(X_test, y_test)))\n",
    "    print(\"Confusion Matrix : \\n {}\\n\".format(confusion_matrix(y_test,y_pred)))\n",
    "    print(\"Accuracy : {}\".format( round(accuracy_score(y_test, y_pred)*100, 2)))\n",
    "    print(\"Classification report : \\n\\n\"+classification_report(y_test, y_pred, labels=[0,1]))\n",
    "    "
   ]
  },
  {
   "cell_type": "code",
   "execution_count": null,
   "metadata": {
    "execution": {
     "iopub.execute_input": "2022-10-27T12:28:22.276951Z",
     "iopub.status.busy": "2022-10-27T12:28:22.276231Z",
     "iopub.status.idle": "2022-10-27T12:28:22.303747Z",
     "shell.execute_reply": "2022-10-27T12:28:22.302432Z",
     "shell.execute_reply.started": "2022-10-27T12:28:22.276905Z"
    }
   },
   "outputs": [],
   "source": [
    "print_report(dt_model,X_test,y_test,y_pred)"
   ]
  },
  {
   "cell_type": "markdown",
   "metadata": {},
   "source": [
    "We can see that although f1-score for non churners is high but for our minority class, Churn=1 the f1-score is very low (0.58). Thus the model is not properly created.Why you may ask? Well its because our dataset is an imbalanced set as we previously saw and the number of churned customers is way lesser than that of non churners.\n",
    "\n",
    "\"***The challenge of working with imbalanced datasets is that most machine learning techniques will ignore, and in turn have poor performance on, the minority class, although typically it is performance on the minority class that is most important***\"<br>ref : machinelearningmastery.com\n",
    "\n",
    "A technique for addressing imbalanced datasets is to oversample the minority class so that new examples can be synthesized from the existing samples."
   ]
  },
  {
   "cell_type": "markdown",
   "metadata": {},
   "source": [
    "We will be using 'SMOTEENN' (Combination of -> Synthetic minority over-sampling technique (SMOTE) and cleaning with Edited nearest neighbor (ENN)) to oversample our minority class. It aims to balance class distribution by randomly increasing minority class examples by replicating them. SMOTE synthesises new minority instances between existing minority instances."
   ]
  },
  {
   "cell_type": "code",
   "execution_count": null,
   "metadata": {
    "execution": {
     "iopub.execute_input": "2022-10-27T12:28:22.307449Z",
     "iopub.status.busy": "2022-10-27T12:28:22.307048Z",
     "iopub.status.idle": "2022-10-27T12:28:23.988186Z",
     "shell.execute_reply": "2022-10-27T12:28:23.986908Z",
     "shell.execute_reply.started": "2022-10-27T12:28:22.307416Z"
    }
   },
   "outputs": [],
   "source": [
    "print(\"Before OverSampling- counts of label '1': {}\".format(sum(y_train==1)))\n",
    "print(\"Before OverSampling- counts of label '0': {} \\n\".format(sum(y_train==0)))\n",
    "\n",
    "sm = SMOTEENN()\n",
    "X_resampled, y_resampled = sm.fit_resample(X_train,y_train)\n",
    "\n",
    "print(\"After OverSampling with SMOTEENN - '1': {}\".format(sum(y_resampled==1)))\n",
    "print(\"After OverSampling with SMOTEENN - '0': {}\".format(sum(y_resampled==0)))"
   ]
  },
  {
   "cell_type": "markdown",
   "metadata": {},
   "source": [
    "As you can see after over sampling and cleaning with SMOTEENN, the distribution of churners and non-churners is now almost evenly distributed"
   ]
  },
  {
   "cell_type": "code",
   "execution_count": null,
   "metadata": {
    "execution": {
     "iopub.execute_input": "2022-10-27T12:28:23.990679Z",
     "iopub.status.busy": "2022-10-27T12:28:23.990046Z",
     "iopub.status.idle": "2022-10-27T12:28:24.029761Z",
     "shell.execute_reply": "2022-10-27T12:28:24.028553Z",
     "shell.execute_reply.started": "2022-10-27T12:28:23.990632Z"
    }
   },
   "outputs": [],
   "source": [
    "Xr_train,Xr_test,yr_train,yr_test = train_test_split(X_resampled, y_resampled,test_size=0.2)\n",
    "model_dt_smote=DecisionTreeClassifier(criterion = \"gini\",max_depth=3, min_samples_leaf=2)\n",
    "model_dt_smote.fit(X_resampled,y_resampled)\n",
    "\n",
    "yr_pred = model_dt_smote.predict(Xr_test)\n",
    "\n",
    "print_report(model_dt_smote,Xr_test,yr_test,yr_pred)\n",
    "dt_smote = round(accuracy_score(yr_test, yr_pred)*100, 2)"
   ]
  },
  {
   "cell_type": "markdown",
   "metadata": {},
   "source": [
    "As we can see that the performance of the model has increased significantly after performing oversampling."
   ]
  },
  {
   "cell_type": "markdown",
   "metadata": {},
   "source": [
    "Now lets try some more models and choose one of the models with the best performance."
   ]
  },
  {
   "cell_type": "markdown",
   "metadata": {},
   "source": [
    "### b) Logistic regression\n"
   ]
  },
  {
   "cell_type": "code",
   "execution_count": null,
   "metadata": {
    "execution": {
     "iopub.execute_input": "2022-10-27T12:28:24.032542Z",
     "iopub.status.busy": "2022-10-27T12:28:24.031486Z",
     "iopub.status.idle": "2022-10-27T12:28:24.279877Z",
     "shell.execute_reply": "2022-10-27T12:28:24.278706Z",
     "shell.execute_reply.started": "2022-10-27T12:28:24.032505Z"
    }
   },
   "outputs": [],
   "source": [
    "from sklearn.preprocessing import MinMaxScaler\n",
    "from sklearn.linear_model import LogisticRegression\n",
    "\n",
    "# Using MinMaxScaler to scale the variables in logistic regression so that all of them are within a range of 0 to 1\n",
    "X_train, X_test, y_train, y_test = train_test_split(X, y, test_size=0.2, random_state=11)\n",
    "features = X.columns.values\n",
    "scaler = MinMaxScaler(feature_range = (0,1))\n",
    "scaler.fit(X)\n",
    "X = pd.DataFrame(scaler.transform(X))\n",
    "X.columns = features\n",
    "\n",
    "\n",
    "#Model fitting\n",
    "model_lr = LogisticRegression(solver='lbfgs',max_iter=1000)\n",
    "model_lr.fit(X_train, y_train)\n",
    "\n",
    "y_pred = model_lr.predict(X_test)\n",
    "print_report(model_lr,X_test,y_test,y_pred)\n",
    "lr = round(accuracy_score(y_test, y_pred)*100, 2)"
   ]
  },
  {
   "cell_type": "code",
   "execution_count": null,
   "metadata": {
    "execution": {
     "iopub.execute_input": "2022-10-27T12:28:24.282249Z",
     "iopub.status.busy": "2022-10-27T12:28:24.281495Z",
     "iopub.status.idle": "2022-10-27T12:28:26.484736Z",
     "shell.execute_reply": "2022-10-27T12:28:26.483163Z",
     "shell.execute_reply.started": "2022-10-27T12:28:24.282201Z"
    }
   },
   "outputs": [],
   "source": [
    "sm = SMOTEENN()\n",
    "\n",
    "X_resample, y_resample = sm.fit_resample(X_train,y_train)\n",
    "Xr_train,Xr_test,yr_train,yr_test = train_test_split(X_resample, y_resample,test_size=0.2)\n",
    "\n",
    "model_lr_smote = LogisticRegression(solver='lbfgs',max_iter=1000)\n",
    "model_lr_smote.fit(Xr_train,yr_train)\n",
    "\n",
    "yr_pred = model_lr_smote.predict(Xr_test)\n",
    "print_report(model_lr_smote,Xr_test,yr_test,yr_pred)\n",
    "lr_smote = round(accuracy_score(yr_test, yr_pred)*100, 2)"
   ]
  },
  {
   "cell_type": "markdown",
   "metadata": {},
   "source": [
    "The above two plots show us the positively and negatively correlated values other than tenure and Total charges with being the most negatively correlated feature and monthlazy contract is the most positively correlated feature w.r.t Churn"
   ]
  },
  {
   "cell_type": "markdown",
   "metadata": {},
   "source": [
    "### c) Random Forest"
   ]
  },
  {
   "cell_type": "code",
   "execution_count": null,
   "metadata": {
    "execution": {
     "iopub.execute_input": "2022-10-27T12:28:26.488611Z",
     "iopub.status.busy": "2022-10-27T12:28:26.487459Z",
     "iopub.status.idle": "2022-10-27T12:28:27.32818Z",
     "shell.execute_reply": "2022-10-27T12:28:27.327027Z",
     "shell.execute_reply.started": "2022-10-27T12:28:26.488548Z"
    },
    "scrolled": true
   },
   "outputs": [],
   "source": [
    "X_train, X_test, y_train, y_test = train_test_split(X, y, test_size=0.2, random_state=11)\n",
    "model_rf=RandomForestClassifier(n_estimators=200, criterion='gini',max_depth=3, min_samples_leaf=2)\n",
    "model_rf.fit(X_train,y_train)\n",
    "y_pred = model_rf.predict(X_test)\n",
    "print_report(model_rf,X_test,y_test,y_pred)\n",
    "rf = round(accuracy_score(y_test, y_pred)*100, 2)"
   ]
  },
  {
   "cell_type": "code",
   "execution_count": null,
   "metadata": {
    "execution": {
     "iopub.execute_input": "2022-10-27T12:28:27.329944Z",
     "iopub.status.busy": "2022-10-27T12:28:27.329605Z",
     "iopub.status.idle": "2022-10-27T12:28:29.796422Z",
     "shell.execute_reply": "2022-10-27T12:28:29.795123Z",
     "shell.execute_reply.started": "2022-10-27T12:28:27.329913Z"
    }
   },
   "outputs": [],
   "source": [
    "sm = SMOTEENN()\n",
    "\n",
    "X_resample, y_resample = sm.fit_resample(X_train,y_train)\n",
    "Xr_train,Xr_test,yr_train,yr_test = train_test_split(X_resample, y_resample,test_size=0.2)\n",
    "model_rf_smote=RandomForestClassifier(n_estimators=200, criterion='gini', random_state = 100,max_depth=4, min_samples_leaf=8)\n",
    "\n",
    "model_rf_smote.fit(Xr_train,yr_train)\n",
    "yr_pred = model_rf_smote.predict(Xr_test)\n",
    "\n",
    "print_report(model_rf_smote,Xr_test,yr_test,yr_pred)\n",
    "rf_smote = round(accuracy_score(yr_test, yr_pred)*100, 2)"
   ]
  },
  {
   "cell_type": "code",
   "execution_count": null,
   "metadata": {
    "execution": {
     "iopub.execute_input": "2022-10-27T12:28:29.798784Z",
     "iopub.status.busy": "2022-10-27T12:28:29.798328Z",
     "iopub.status.idle": "2022-10-27T12:28:29.870914Z",
     "shell.execute_reply": "2022-10-27T12:28:29.869782Z",
     "shell.execute_reply.started": "2022-10-27T12:28:29.798743Z"
    }
   },
   "outputs": [],
   "source": [
    "Xr_train"
   ]
  },
  {
   "cell_type": "code",
   "execution_count": null,
   "metadata": {
    "execution": {
     "iopub.execute_input": "2022-10-27T12:28:29.872532Z",
     "iopub.status.busy": "2022-10-27T12:28:29.872198Z",
     "iopub.status.idle": "2022-10-27T12:28:29.930752Z",
     "shell.execute_reply": "2022-10-27T12:28:29.929727Z",
     "shell.execute_reply.started": "2022-10-27T12:28:29.872502Z"
    }
   },
   "outputs": [],
   "source": [
    "yr_pred= model_rf_smote.predict(Xr_test)\n",
    "yr_pred[0:5]"
   ]
  },
  {
   "cell_type": "code",
   "execution_count": null,
   "metadata": {
    "execution": {
     "iopub.execute_input": "2022-10-27T12:28:29.932441Z",
     "iopub.status.busy": "2022-10-27T12:28:29.932124Z",
     "iopub.status.idle": "2022-10-27T12:28:29.98749Z",
     "shell.execute_reply": "2022-10-27T12:28:29.986251Z",
     "shell.execute_reply.started": "2022-10-27T12:28:29.932413Z"
    }
   },
   "outputs": [],
   "source": [
    "yr_pred = model_rf_smote.predict_proba(Xr_test)\n",
    "yr_pred[0:5]"
   ]
  },
  {
   "cell_type": "markdown",
   "metadata": {},
   "source": [
    "predict_proba gives is the confidence score of that particular label while predict outputs binary probability"
   ]
  },
  {
   "cell_type": "markdown",
   "metadata": {},
   "source": [
    "### d) PCA"
   ]
  },
  {
   "cell_type": "code",
   "execution_count": null,
   "metadata": {
    "execution": {
     "iopub.execute_input": "2022-10-27T12:28:29.989533Z",
     "iopub.status.busy": "2022-10-27T12:28:29.989182Z",
     "iopub.status.idle": "2022-10-27T12:28:31.124475Z",
     "shell.execute_reply": "2022-10-27T12:28:31.123215Z",
     "shell.execute_reply.started": "2022-10-27T12:28:29.989504Z"
    }
   },
   "outputs": [],
   "source": [
    "# Applying PCA\n",
    "from sklearn.decomposition import PCA\n",
    "pcas = PCA(0.9)\n",
    "X_train, X_test, y_train, y_test = train_test_split(X, y, test_size=0.2, random_state=11)\n",
    "\n",
    "X_train_pca = pcas.fit_transform(X_train)\n",
    "X_test_pca = pcas.transform(X_test)\n",
    "model_pca=RandomForestClassifier(n_estimators=100, criterion='gini', random_state = 100, max_depth=4, min_samples_leaf=8)\n",
    "model_pca.fit(X_train_pca,y_train)\n",
    "\n",
    "y_pred_pca = model_pca.predict(X_test_pca)\n",
    "\n",
    "print_report(model_pca,X_test_pca,y_test,y_pred_pca)\n",
    "pca = round(accuracy_score(y_test, y_pred_pca)*100, 2)"
   ]
  },
  {
   "cell_type": "code",
   "execution_count": null,
   "metadata": {
    "execution": {
     "iopub.execute_input": "2022-10-27T12:28:31.126345Z",
     "iopub.status.busy": "2022-10-27T12:28:31.12588Z",
     "iopub.status.idle": "2022-10-27T12:28:33.698976Z",
     "shell.execute_reply": "2022-10-27T12:28:33.69783Z",
     "shell.execute_reply.started": "2022-10-27T12:28:31.126302Z"
    }
   },
   "outputs": [],
   "source": [
    "sm = SMOTEENN()\n",
    "X_resample, y_resample = sm.fit_resample(X_train,y_train)\n",
    "Xr_train, Xr_test, yr_train, yr_test=train_test_split(X_resample, y_resample,test_size=0.2)\n",
    "pcas = PCA(0.9)\n",
    "\n",
    "Xr_train_pca = pcas.fit_transform(Xr_train)\n",
    "Xr_test_pca = pcas.transform(Xr_test)\n",
    "model_pca_smote=RandomForestClassifier(n_estimators=100, criterion='gini', random_state = 100, max_depth=6, min_samples_leaf=8)\n",
    "model_pca_smote.fit(Xr_train_pca,yr_train)\n",
    "\n",
    "yr_pred_pca = model_pca_smote.predict(Xr_test_pca)\n",
    "\n",
    "print_report(model_pca_smote,Xr_test_pca,yr_test,yr_pred_pca)\n",
    "pca_smote = round(accuracy_score(yr_test, yr_pred_pca)*100, 2)"
   ]
  },
  {
   "cell_type": "markdown",
   "metadata": {},
   "source": [
    "### e) AdaBoost"
   ]
  },
  {
   "cell_type": "code",
   "execution_count": null,
   "metadata": {
    "execution": {
     "iopub.execute_input": "2022-10-27T12:28:33.700735Z",
     "iopub.status.busy": "2022-10-27T12:28:33.700402Z",
     "iopub.status.idle": "2022-10-27T12:28:35.523936Z",
     "shell.execute_reply": "2022-10-27T12:28:35.523052Z",
     "shell.execute_reply.started": "2022-10-27T12:28:33.700705Z"
    }
   },
   "outputs": [],
   "source": [
    "X_train, X_test, y_train, y_test = train_test_split(X, y, test_size=0.2, random_state=42)\n",
    "model_ada = AdaBoostClassifier(n_estimators=200, learning_rate=0.2, algorithm='SAMME.R')\n",
    "\n",
    "model_ada.fit(X_train, y_train)\n",
    "y_pred = model_ada.predict(X_test)\n",
    "\n",
    "print_report(model_ada,X_test,y_test,y_pred)\n",
    "ada = round(accuracy_score(y_test, y_pred)*100, 2)"
   ]
  },
  {
   "cell_type": "code",
   "execution_count": null,
   "metadata": {
    "execution": {
     "iopub.execute_input": "2022-10-27T12:28:35.525806Z",
     "iopub.status.busy": "2022-10-27T12:28:35.525059Z",
     "iopub.status.idle": "2022-10-27T12:28:38.526553Z",
     "shell.execute_reply": "2022-10-27T12:28:38.525338Z",
     "shell.execute_reply.started": "2022-10-27T12:28:35.525773Z"
    }
   },
   "outputs": [],
   "source": [
    "sm = SMOTEENN()\n",
    "X_resample, y_resample = sm.fit_resample(X_train,y_train)\n",
    "Xr_train,Xr_test,yr_train,yr_test = train_test_split(X_resample, y_resample,test_size=0.2)\n",
    "\n",
    "model_ada_smote = AdaBoostClassifier(n_estimators=200, learning_rate=0.2, algorithm='SAMME')\n",
    "model_ada_smote.fit(Xr_train, yr_train)\n",
    "\n",
    "yr_pred = model_ada_smote.predict(Xr_test)\n",
    "print_report(model_ada_smote,Xr_test,yr_test,yr_pred)\n",
    "ada_smote = round(accuracy_score(yr_test, yr_pred)*100, 2)"
   ]
  },
  {
   "cell_type": "code",
   "execution_count": null,
   "metadata": {
    "execution": {
     "iopub.execute_input": "2022-10-27T12:28:38.529044Z",
     "iopub.status.busy": "2022-10-27T12:28:38.528328Z",
     "iopub.status.idle": "2022-10-27T12:28:38.58231Z",
     "shell.execute_reply": "2022-10-27T12:28:38.580937Z",
     "shell.execute_reply.started": "2022-10-27T12:28:38.528987Z"
    }
   },
   "outputs": [],
   "source": [
    "predt = model_ada_smote.predict(Xr_test)\n",
    "predt[0:10]"
   ]
  },
  {
   "cell_type": "markdown",
   "metadata": {},
   "source": [
    "### f) Support Vector Machines (SVM)"
   ]
  },
  {
   "cell_type": "code",
   "execution_count": null,
   "metadata": {
    "execution": {
     "iopub.execute_input": "2022-10-27T12:28:38.585099Z",
     "iopub.status.busy": "2022-10-27T12:28:38.583875Z",
     "iopub.status.idle": "2022-10-27T12:28:40.503685Z",
     "shell.execute_reply": "2022-10-27T12:28:40.502372Z",
     "shell.execute_reply.started": "2022-10-27T12:28:38.585051Z"
    }
   },
   "outputs": [],
   "source": [
    "X_train, X_test, y_train, y_test = train_test_split(X, y, test_size=0.2, random_state=11)\n",
    "from sklearn.svm import SVC\n",
    "\n",
    "model_svm = SVC(kernel='linear') \n",
    "model_svm.fit(X_train,y_train)\n",
    "y_pred = model_svm.predict(X_test)\n",
    "\n",
    "print_report(model_svm, X_test, y_test, y_pred)\n",
    "svm = round(accuracy_score(y_test, y_pred)*100, 2)"
   ]
  },
  {
   "cell_type": "code",
   "execution_count": null,
   "metadata": {
    "execution": {
     "iopub.execute_input": "2022-10-27T12:28:40.505604Z",
     "iopub.status.busy": "2022-10-27T12:28:40.505235Z",
     "iopub.status.idle": "2022-10-27T12:28:42.670352Z",
     "shell.execute_reply": "2022-10-27T12:28:42.669135Z",
     "shell.execute_reply.started": "2022-10-27T12:28:40.505572Z"
    }
   },
   "outputs": [],
   "source": [
    "sm = SMOTEENN()\n",
    "X_resample, y_resample = sm.fit_resample(X_train,y_train)\n",
    "Xr_train,Xr_test,yr_train,yr_test = train_test_split(X_resample, y_resample,test_size=0.2)\n",
    "\n",
    "model_svm_smote = SVC(kernel='linear')\n",
    "model_svm_smote.fit(Xr_train, yr_train)\n",
    "yr_pred = model_svm_smote.predict(Xr_test)\n",
    "\n",
    "print_report(model_svm_smote,Xr_test,yr_test,yr_pred)\n",
    "svm_smote = round(accuracy_score(yr_test, yr_pred)*100, 2)"
   ]
  },
  {
   "cell_type": "markdown",
   "metadata": {},
   "source": [
    "### g) XGBoost"
   ]
  },
  {
   "cell_type": "code",
   "execution_count": null,
   "metadata": {
    "execution": {
     "iopub.execute_input": "2022-10-27T12:28:42.672806Z",
     "iopub.status.busy": "2022-10-27T12:28:42.672198Z",
     "iopub.status.idle": "2022-10-27T12:28:43.867594Z",
     "shell.execute_reply": "2022-10-27T12:28:43.866597Z",
     "shell.execute_reply.started": "2022-10-27T12:28:42.672773Z"
    }
   },
   "outputs": [],
   "source": [
    "from xgboost import XGBClassifier\n",
    "X_train, X_test, y_train, y_test = train_test_split(X, y, test_size=0.2, random_state=11)\n",
    "model_xgb = XGBClassifier(n_estimators=200,max_depth=3)\n",
    "model_xgb.fit(X_train, y_train)\n",
    "y_pred = model_xgb.predict(X_test)\n",
    "\n",
    "print_report(model_xgb,X_test,y_test,y_pred)\n",
    "xgb = round(accuracy_score(y_test, y_pred)*100, 2)"
   ]
  },
  {
   "cell_type": "code",
   "execution_count": null,
   "metadata": {
    "execution": {
     "iopub.execute_input": "2022-10-27T12:28:43.869834Z",
     "iopub.status.busy": "2022-10-27T12:28:43.869172Z",
     "iopub.status.idle": "2022-10-27T12:28:46.705896Z",
     "shell.execute_reply": "2022-10-27T12:28:46.705027Z",
     "shell.execute_reply.started": "2022-10-27T12:28:43.869797Z"
    }
   },
   "outputs": [],
   "source": [
    "sm = SMOTEENN()\n",
    "X_resample, y_resample = sm.fit_resample(X_train,y_train)\n",
    "Xr_train,Xr_test,yr_train,yr_test = train_test_split(X_resample, y_resample,test_size=0.2)\n",
    "\n",
    "model_xgb_smote= XGBClassifier(n_estimators=200,max_depth=3)\n",
    "model_xgb_smote.fit(Xr_train, yr_train)\n",
    "yr_pred = model_xgb_smote.predict(Xr_test)\n",
    "\n",
    "print_report(model_xgb_smote,Xr_test,yr_test,yr_pred)\n",
    "xgb_smote = round(accuracy_score(yr_test, yr_pred)*100, 2)"
   ]
  },
  {
   "cell_type": "markdown",
   "metadata": {},
   "source": [
    "### h) Neural Network"
   ]
  },
  {
   "cell_type": "code",
   "execution_count": null,
   "metadata": {
    "execution": {
     "iopub.execute_input": "2022-10-27T12:28:46.708138Z",
     "iopub.status.busy": "2022-10-27T12:28:46.707476Z",
     "iopub.status.idle": "2022-10-27T12:28:59.432078Z",
     "shell.execute_reply": "2022-10-27T12:28:59.431271Z",
     "shell.execute_reply.started": "2022-10-27T12:28:46.708101Z"
    },
    "scrolled": true
   },
   "outputs": [],
   "source": [
    "import tensorflow as tf\n",
    "from functools import partial\n",
    "from tensorflow import keras\n",
    "\n",
    "X_train, X_test, y_train, y_test = train_test_split(X, y, test_size=0.2, random_state=11)\n",
    "\n",
    "def neural_net(X_train,y_train,X_test,y_test):\n",
    "    model = keras.Sequential(\n",
    "        [\n",
    "            keras.layers.Dense(20,input_shape=(46,),activation='relu'),\n",
    "            keras.layers.Dropout(0.3),\n",
    "            keras.layers.Dense(10,activation='relu'),\n",
    "            keras.layers.Dropout(0.3),\n",
    "            keras.layers.Dense(5,activation='relu'),\n",
    "            keras.layers.Dropout(0.3),\n",
    "            keras.layers.Dense(1,activation='sigmoid'),\n",
    "        ]\n",
    "    )\n",
    "\n",
    "    model.compile(optimizer ='adam',\n",
    "                 loss='binary_crossentropy',\n",
    "                 metrics=['accuracy'])\n",
    "\n",
    "    # model.fit(x_train,y_train,epochs=5)\n",
    "    model.fit(X_train,y_train,epochs=20,batch_size=16,verbose=0)\n",
    "\n",
    "\n",
    "    loss, acc = model.evaluate(X_test, y_test,\n",
    "                            batch_size=16)\n",
    "    y_pred = model.predict(X_test)\n",
    "    y_pred_actual = []\n",
    "    for ele in y_pred:\n",
    "        if ele > 0.5:\n",
    "            y_pred_actual.append(1)\n",
    "        else :\n",
    "            y_pred_actual.append(0)\n",
    "\n",
    "\n",
    "    print(\"Model Score : {} \\n \".format(acc))\n",
    "    print(\"Confusion Matrix : \\n {}\\n\".format(classification_report(y_test,y_pred_actual)))\n",
    "    print(\"Accuracy : {}\".format(round(acc*100, 2)))\n",
    "    nn_acc = round(acc*100, 2)\n",
    "    return nn_acc \n",
    "\n",
    "\n",
    "nn = neural_net(X_train,y_train,X_test,y_test)"
   ]
  },
  {
   "cell_type": "code",
   "execution_count": null,
   "metadata": {
    "execution": {
     "iopub.execute_input": "2022-10-27T12:28:59.434073Z",
     "iopub.status.busy": "2022-10-27T12:28:59.433488Z",
     "iopub.status.idle": "2022-10-27T12:29:10.509161Z",
     "shell.execute_reply": "2022-10-27T12:29:10.508016Z",
     "shell.execute_reply.started": "2022-10-27T12:28:59.434041Z"
    },
    "scrolled": true
   },
   "outputs": [],
   "source": [
    "sm = SMOTEENN()\n",
    "X_resample, y_resample = sm.fit_resample(X_train,y_train)\n",
    "Xr_train,Xr_test,yr_train,yr_test = train_test_split(X_resample, y_resample,test_size=0.2)\n",
    "nn_smote = neural_net(Xr_train,yr_train,Xr_test,yr_test)\n"
   ]
  },
  {
   "cell_type": "code",
   "execution_count": null,
   "metadata": {
    "execution": {
     "iopub.execute_input": "2022-10-27T12:29:10.510897Z",
     "iopub.status.busy": "2022-10-27T12:29:10.510591Z",
     "iopub.status.idle": "2022-10-27T12:29:10.733327Z",
     "shell.execute_reply": "2022-10-27T12:29:10.731794Z",
     "shell.execute_reply.started": "2022-10-27T12:29:10.510869Z"
    }
   },
   "outputs": [],
   "source": [
    "models = pd.DataFrame({\n",
    "    'Model':['Decision trees', 'Logistic Regression', 'Random Forest', 'PCA', 'AdaBoost', 'SVM',  'XGBoost','Neural Network'],\n",
    "    'Accuracy_score' : [dt, lr, rf, pca, ada, svm, xgb,nn],\n",
    "    'Smote_Accuracy_score' : [dt_smote, lr_smote, rf_smote, pca_smote, ada_smote, svm_smote, xgb_smote,nn_smote]\n",
    "})\n",
    "sns.barplot(x='Smote_Accuracy_score', y='Model', palette='icefire_r',data=models.sort_values(by='Smote_Accuracy_score',\n",
    "                                                                         ascending=False, ignore_index=True))\n",
    "\n",
    "models.sort_values(by='Smote_Accuracy_score', ascending=False, ignore_index=True)"
   ]
  },
  {
   "cell_type": "markdown",
   "metadata": {},
   "source": [
    "All the models are giving very good performance and their accuracy seems to be very close to each other with XGBoost Leading in terms of performance. After applying SMOTE ENN the models performance jumps up significantly. XGBoost are giving us one of the top model performances. Hence we will be going to use XGBoost as our model for predicting Customer Churn. Lets create a pickle now and store our model in it."
   ]
  },
  {
   "cell_type": "code",
   "execution_count": null,
   "metadata": {
    "execution": {
     "iopub.execute_input": "2022-10-27T12:29:10.735547Z",
     "iopub.status.busy": "2022-10-27T12:29:10.735076Z",
     "iopub.status.idle": "2022-10-27T12:29:10.749949Z",
     "shell.execute_reply": "2022-10-27T12:29:10.748751Z",
     "shell.execute_reply.started": "2022-10-27T12:29:10.735502Z"
    }
   },
   "outputs": [],
   "source": [
    "import pickle\n",
    "# Lets dump our Random Forests model\n",
    "pickle.dump(model_xgb_smote, open('model.pkl','wb'))"
   ]
  },
  {
   "cell_type": "code",
   "execution_count": null,
   "metadata": {
    "execution": {
     "iopub.execute_input": "2022-10-27T12:29:10.75187Z",
     "iopub.status.busy": "2022-10-27T12:29:10.751305Z",
     "iopub.status.idle": "2022-10-27T12:29:10.775197Z",
     "shell.execute_reply": "2022-10-27T12:29:10.774069Z",
     "shell.execute_reply.started": "2022-10-27T12:29:10.751833Z"
    }
   },
   "outputs": [],
   "source": [
    "load_model2=pickle.load(open('model.pkl','rb'))\n",
    "load_model2.score(Xr_test,yr_test)"
   ]
  },
  {
   "cell_type": "code",
   "execution_count": null,
   "metadata": {
    "execution": {
     "iopub.execute_input": "2022-10-27T12:29:10.777011Z",
     "iopub.status.busy": "2022-10-27T12:29:10.776656Z",
     "iopub.status.idle": "2022-10-27T12:29:10.792355Z",
     "shell.execute_reply": "2022-10-27T12:29:10.791017Z",
     "shell.execute_reply.started": "2022-10-27T12:29:10.776979Z"
    }
   },
   "outputs": [],
   "source": [
    "model_xgb_smote.predict_proba(Xr_test)"
   ]
  },
  {
   "cell_type": "markdown",
   "metadata": {},
   "source": [
    "We can also predict on the entire dataset to calculate the probability of churning by using our model to predict the Churn. After that you can use Power BI to visualize beautiful graphs and bar charts containing all the information in a concise way.\n",
    "<a href=\"https://github.com/VineetDabholkar2002/Customer-Churn-Predictor\">Github Repo link containing Power BI Dashboard</a>"
   ]
  },
  {
   "cell_type": "code",
   "execution_count": null,
   "metadata": {
    "execution": {
     "iopub.execute_input": "2022-10-27T12:29:10.794066Z",
     "iopub.status.busy": "2022-10-27T12:29:10.793718Z",
     "iopub.status.idle": "2022-10-27T12:29:10.919Z",
     "shell.execute_reply": "2022-10-27T12:29:10.917704Z",
     "shell.execute_reply.started": "2022-10-27T12:29:10.794036Z"
    }
   },
   "outputs": [],
   "source": [
    "# For Power BI predictions\n",
    "telco_pred= pd.read_csv(\"../input/telco-customer-churn/WA_Fn-UseC_-Telco-Customer-Churn.csv\")\n",
    "telco_pred['TotalCharges']=pd.to_numeric(df_base['TotalCharges'],errors='coerce') #coerce puts NaN values if there are any parsing errors\n",
    "telco_pred.dropna(inplace=True)\n",
    "pred=model_xgb_smote.predict_proba(X)[:,1]*100\n",
    "telco_pred['Predictions']=pred\n",
    "telco_pred.to_csv('Telco-Churn-Predictions.csv')"
   ]
  },
  {
   "cell_type": "markdown",
   "metadata": {},
   "source": [
    "## PowerBI Dashboard\n",
    "a) Churners Profile\n",
    "  <br>\n",
    "<img src=\"https://user-images.githubusercontent.com/93699671/179417974-e5d0011f-040c-424e-bca1-3e0697cb0953.png\" width=70%>\n",
    "  \n",
    "  \n",
    "b) Churn Risks for each customer (Predicted using XGBoost model)\n",
    "  <br>\n",
    "<img src=\"https://user-images.githubusercontent.com/93699671/183242005-e3168178-b1b0-47b5-ac87-8f4a49151358.png\" width=70%>"
   ]
  },
  {
   "cell_type": "markdown",
   "metadata": {},
   "source": [
    "#### We have now successfully built a model by choosing XGBoost to predict Customer Churn. Using the predictor you will find that the predictions made by our model will match with our EDA we have done previously.\n",
    "\n",
    "#### You can now easily host the predictor on Heroku by making use of the model.pkl file and even create a beautiful dashboard using PowerBI.\n",
    "\n",
    "### <i>Thanks for reading !!! I wish you the best of luck in your future endeavors !!!<i>\n"
   ]
  }
 ],
 "metadata": {
  "kaggle": {
   "accelerator": "none",
   "dataSources": [
    {
     "datasetId": 13996,
     "sourceId": 18858,
     "sourceType": "datasetVersion"
    }
   ],
   "dockerImageVersionId": 30213,
   "isGpuEnabled": false,
   "isInternetEnabled": false,
   "language": "python",
   "sourceType": "notebook"
  },
  "kernelspec": {
   "display_name": "Python 3 (ipykernel)",
   "language": "python",
   "name": "python3"
  },
  "language_info": {
   "codemirror_mode": {
    "name": "ipython",
    "version": 3
   },
   "file_extension": ".py",
   "mimetype": "text/x-python",
   "name": "python",
   "nbconvert_exporter": "python",
   "pygments_lexer": "ipython3",
   "version": "3.11.4"
  }
 },
 "nbformat": 4,
 "nbformat_minor": 4
}
